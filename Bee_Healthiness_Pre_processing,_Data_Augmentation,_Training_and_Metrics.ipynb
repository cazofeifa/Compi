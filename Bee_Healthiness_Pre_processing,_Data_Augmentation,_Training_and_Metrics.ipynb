{
  "nbformat": 4,
  "nbformat_minor": 0,
  "metadata": {
    "colab": {
      "name": "Bee Healthiness - Pre processing, Data Augmentation, Training and Metrics.ipynb",
      "provenance": [],
      "collapsed_sections": [],
      "include_colab_link": true
    },
    "kernelspec": {
      "name": "python3",
      "display_name": "Python 3"
    },
    "language_info": {
      "name": "python"
    },
    "accelerator": "GPU",
    "widgets": {
      "application/vnd.jupyter.widget-state+json": {
        "3bba20e734ae45f98e644a19ee78ab46": {
          "model_module": "@jupyter-widgets/controls",
          "model_name": "HBoxModel",
          "state": {
            "_view_name": "HBoxView",
            "_dom_classes": [],
            "_model_name": "HBoxModel",
            "_view_module": "@jupyter-widgets/controls",
            "_model_module_version": "1.5.0",
            "_view_count": null,
            "_view_module_version": "1.5.0",
            "box_style": "",
            "layout": "IPY_MODEL_21634139f4ef44b08b40a40c286cc4df",
            "_model_module": "@jupyter-widgets/controls",
            "children": [
              "IPY_MODEL_6644cad5783a4f41842a37beeecf4e2f",
              "IPY_MODEL_3407f58aac3547e0be2fd2425a4eea72"
            ]
          }
        },
        "21634139f4ef44b08b40a40c286cc4df": {
          "model_module": "@jupyter-widgets/base",
          "model_name": "LayoutModel",
          "state": {
            "_view_name": "LayoutView",
            "grid_template_rows": null,
            "right": null,
            "justify_content": null,
            "_view_module": "@jupyter-widgets/base",
            "overflow": null,
            "_model_module_version": "1.2.0",
            "_view_count": null,
            "flex_flow": null,
            "width": null,
            "min_width": null,
            "border": null,
            "align_items": null,
            "bottom": null,
            "_model_module": "@jupyter-widgets/base",
            "top": null,
            "grid_column": null,
            "overflow_y": null,
            "overflow_x": null,
            "grid_auto_flow": null,
            "grid_area": null,
            "grid_template_columns": null,
            "flex": null,
            "_model_name": "LayoutModel",
            "justify_items": null,
            "grid_row": null,
            "max_height": null,
            "align_content": null,
            "visibility": null,
            "align_self": null,
            "height": null,
            "min_height": null,
            "padding": null,
            "grid_auto_rows": null,
            "grid_gap": null,
            "max_width": null,
            "order": null,
            "_view_module_version": "1.2.0",
            "grid_template_areas": null,
            "object_position": null,
            "object_fit": null,
            "grid_auto_columns": null,
            "margin": null,
            "display": null,
            "left": null
          }
        },
        "6644cad5783a4f41842a37beeecf4e2f": {
          "model_module": "@jupyter-widgets/controls",
          "model_name": "FloatProgressModel",
          "state": {
            "_view_name": "ProgressView",
            "style": "IPY_MODEL_07e129cf553640399584daa98f82fa79",
            "_dom_classes": [],
            "description": "100%",
            "_model_name": "FloatProgressModel",
            "bar_style": "success",
            "max": 46830571,
            "_view_module": "@jupyter-widgets/controls",
            "_model_module_version": "1.5.0",
            "value": 46830571,
            "_view_count": null,
            "_view_module_version": "1.5.0",
            "orientation": "horizontal",
            "min": 0,
            "description_tooltip": null,
            "_model_module": "@jupyter-widgets/controls",
            "layout": "IPY_MODEL_6ea55e68057a4f189de9317e837e87fd"
          }
        },
        "3407f58aac3547e0be2fd2425a4eea72": {
          "model_module": "@jupyter-widgets/controls",
          "model_name": "HTMLModel",
          "state": {
            "_view_name": "HTMLView",
            "style": "IPY_MODEL_0471a014a70c41938f0809d7b7c05a16",
            "_dom_classes": [],
            "description": "",
            "_model_name": "HTMLModel",
            "placeholder": "​",
            "_view_module": "@jupyter-widgets/controls",
            "_model_module_version": "1.5.0",
            "value": " 44.7M/44.7M [00:07&lt;00:00, 6.29MB/s]",
            "_view_count": null,
            "_view_module_version": "1.5.0",
            "description_tooltip": null,
            "_model_module": "@jupyter-widgets/controls",
            "layout": "IPY_MODEL_7c67c74c81384410a295d361113b2eaa"
          }
        },
        "07e129cf553640399584daa98f82fa79": {
          "model_module": "@jupyter-widgets/controls",
          "model_name": "ProgressStyleModel",
          "state": {
            "_view_name": "StyleView",
            "_model_name": "ProgressStyleModel",
            "description_width": "initial",
            "_view_module": "@jupyter-widgets/base",
            "_model_module_version": "1.5.0",
            "_view_count": null,
            "_view_module_version": "1.2.0",
            "bar_color": null,
            "_model_module": "@jupyter-widgets/controls"
          }
        },
        "6ea55e68057a4f189de9317e837e87fd": {
          "model_module": "@jupyter-widgets/base",
          "model_name": "LayoutModel",
          "state": {
            "_view_name": "LayoutView",
            "grid_template_rows": null,
            "right": null,
            "justify_content": null,
            "_view_module": "@jupyter-widgets/base",
            "overflow": null,
            "_model_module_version": "1.2.0",
            "_view_count": null,
            "flex_flow": null,
            "width": null,
            "min_width": null,
            "border": null,
            "align_items": null,
            "bottom": null,
            "_model_module": "@jupyter-widgets/base",
            "top": null,
            "grid_column": null,
            "overflow_y": null,
            "overflow_x": null,
            "grid_auto_flow": null,
            "grid_area": null,
            "grid_template_columns": null,
            "flex": null,
            "_model_name": "LayoutModel",
            "justify_items": null,
            "grid_row": null,
            "max_height": null,
            "align_content": null,
            "visibility": null,
            "align_self": null,
            "height": null,
            "min_height": null,
            "padding": null,
            "grid_auto_rows": null,
            "grid_gap": null,
            "max_width": null,
            "order": null,
            "_view_module_version": "1.2.0",
            "grid_template_areas": null,
            "object_position": null,
            "object_fit": null,
            "grid_auto_columns": null,
            "margin": null,
            "display": null,
            "left": null
          }
        },
        "0471a014a70c41938f0809d7b7c05a16": {
          "model_module": "@jupyter-widgets/controls",
          "model_name": "DescriptionStyleModel",
          "state": {
            "_view_name": "StyleView",
            "_model_name": "DescriptionStyleModel",
            "description_width": "",
            "_view_module": "@jupyter-widgets/base",
            "_model_module_version": "1.5.0",
            "_view_count": null,
            "_view_module_version": "1.2.0",
            "_model_module": "@jupyter-widgets/controls"
          }
        },
        "7c67c74c81384410a295d361113b2eaa": {
          "model_module": "@jupyter-widgets/base",
          "model_name": "LayoutModel",
          "state": {
            "_view_name": "LayoutView",
            "grid_template_rows": null,
            "right": null,
            "justify_content": null,
            "_view_module": "@jupyter-widgets/base",
            "overflow": null,
            "_model_module_version": "1.2.0",
            "_view_count": null,
            "flex_flow": null,
            "width": null,
            "min_width": null,
            "border": null,
            "align_items": null,
            "bottom": null,
            "_model_module": "@jupyter-widgets/base",
            "top": null,
            "grid_column": null,
            "overflow_y": null,
            "overflow_x": null,
            "grid_auto_flow": null,
            "grid_area": null,
            "grid_template_columns": null,
            "flex": null,
            "_model_name": "LayoutModel",
            "justify_items": null,
            "grid_row": null,
            "max_height": null,
            "align_content": null,
            "visibility": null,
            "align_self": null,
            "height": null,
            "min_height": null,
            "padding": null,
            "grid_auto_rows": null,
            "grid_gap": null,
            "max_width": null,
            "order": null,
            "_view_module_version": "1.2.0",
            "grid_template_areas": null,
            "object_position": null,
            "object_fit": null,
            "grid_auto_columns": null,
            "margin": null,
            "display": null,
            "left": null
          }
        }
      }
    }
  },
  "cells": [
    {
      "cell_type": "markdown",
      "metadata": {
        "id": "view-in-github",
        "colab_type": "text"
      },
      "source": [
        "<a href=\"https://colab.research.google.com/github/cazofeifa/Compi/blob/master/Bee_Healthiness_Pre_processing%2C_Data_Augmentation%2C_Training_and_Metrics.ipynb\" target=\"_parent\"><img src=\"https://colab.research.google.com/assets/colab-badge.svg\" alt=\"Open In Colab\"/></a>"
      ]
    },
    {
      "cell_type": "markdown",
      "metadata": {
        "id": "CKONnLMr94ov"
      },
      "source": [
        "<h1>🐝 Bee Healthiness</h1>\n",
        "<h3>Pre processing and Data Augmentation</h3>\n",
        "\n",
        "Proyecto de <b>Investigación y Paper</b>\n",
        "del curso de Informática para la Conservación de la Biodiversidad, \n",
        "de la Maestría de Ciencias de la Computación\n",
        "\n",
        "<b>Profesor</b>: Dr. Eric Mata\n",
        "\n",
        "<b>Estudiantes</b>:\n",
        "\n",
        "*   Ing. Carlos Azofeifa\n",
        "*   Ing. Edisson López\n",
        "\n"
      ]
    },
    {
      "cell_type": "markdown",
      "metadata": {
        "id": "wiW-QDlUEJt3"
      },
      "source": [
        "# General Setting\n",
        "This is the section includes:\n",
        "1.   Python imports\n",
        "2.   Google drive connection\n",
        "3.   Get Kaggle bee's dataset\n",
        "4.   Sets GPU as accelerator if available"
      ]
    },
    {
      "cell_type": "code",
      "metadata": {
        "id": "eJd58BgENAfx"
      },
      "source": [
        "import os\n",
        "import cv2\n",
        "import time\n",
        "import copy\n",
        "import torch\n",
        "import random\n",
        "import pickle\n",
        "import itertools\n",
        "import numpy as np\n",
        "import torchvision\n",
        "import numpy as np\n",
        "import torch.nn as nn\n",
        "from PIL import Image\n",
        "import tensorflow as tf\n",
        "from sklearn import metrics\n",
        "import torch.optim as optim\n",
        "import matplotlib.pyplot as plt\n",
        "from torch.optim import lr_scheduler\n",
        "from matplotlib.pyplot import imshow\n",
        "from torchvision.utils import save_image\n",
        "from sklearn.metrics import roc_auc_score\n",
        "from sklearn.metrics import confusion_matrix\n",
        "from tensorflow.python.client import device_lib\n",
        "from torch.utils.data import Dataset, DataLoader\n",
        "from sklearn.metrics import ConfusionMatrixDisplay\n",
        "from sklearn.model_selection import train_test_split\n",
        "from torchvision import datasets, models, transforms\n",
        "import albumentations as albu # to increase the quality\n",
        "from albumentations.pytorch.transforms import ToTensor\n",
        "\n",
        "\n",
        "# model = torch.hub.load('pytorch/vision:v0.9.0', 'resnet18', pretrained=True)\n",
        "\n",
        "# SEED = 1234\n",
        "# np.random.seed(SEED)\n",
        "# torch.manual_seed(SEED)\n",
        "# torch.cuda.manual_seed(SEED)\n",
        "# torch.backends.cudnn.deterministic = True"
      ],
      "execution_count": 1,
      "outputs": []
    },
    {
      "cell_type": "code",
      "metadata": {
        "id": "9C1W6w-VOkWQ",
        "colab": {
          "resources": {
            "http://localhost:8080/nbextensions/google.colab/files.js": {
              "data": "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",
              "ok": true,
              "headers": [
                [
                  "content-type",
                  "application/javascript"
                ]
              ],
              "status": 200,
              "status_text": "OK"
            }
          },
          "base_uri": "https://localhost:8080/",
          "height": 54
        },
        "outputId": "343f60b8-8bc3-4157-de91-4a5c9c66fa5c"
      },
      "source": [
        "from google.colab import files \n",
        "files.upload()"
      ],
      "execution_count": 2,
      "outputs": [
        {
          "output_type": "display_data",
          "data": {
            "text/html": [
              "\n",
              "     <input type=\"file\" id=\"files-5327f841-4c7c-4e74-9438-b0afbd2839b1\" name=\"files[]\" multiple disabled\n",
              "        style=\"border:none\" />\n",
              "     <output id=\"result-5327f841-4c7c-4e74-9438-b0afbd2839b1\">\n",
              "      Upload widget is only available when the cell has been executed in the\n",
              "      current browser session. Please rerun this cell to enable.\n",
              "      </output>\n",
              "      <script src=\"/nbextensions/google.colab/files.js\"></script> "
            ],
            "text/plain": [
              "<IPython.core.display.HTML object>"
            ]
          },
          "metadata": {
            "tags": []
          }
        },
        {
          "output_type": "execute_result",
          "data": {
            "text/plain": [
              "{}"
            ]
          },
          "metadata": {
            "tags": []
          },
          "execution_count": 2
        }
      ]
    },
    {
      "cell_type": "code",
      "metadata": {
        "id": "sYXfoCceEINx",
        "colab": {
          "base_uri": "https://localhost:8080/"
        },
        "outputId": "0893db9e-6a79-42c4-9c6f-2416dd462f86"
      },
      "source": [
        "#Gets the GPU's info if available\n",
        "gpu_info = !nvidia-smi\n",
        "gpu_info = '\\n'.join(gpu_info)\n",
        "if gpu_info.find('failed') >= 0:\n",
        "  print('Select the Runtime > \"Change runtime type\" menu to enable a GPU accelerator, ')\n",
        "  print('and then re-execute this cell.')\n",
        "else:\n",
        "  print(gpu_info)"
      ],
      "execution_count": 3,
      "outputs": [
        {
          "output_type": "stream",
          "text": [
            "Tue Jun 22 02:47:55 2021       \n",
            "+-----------------------------------------------------------------------------+\n",
            "| NVIDIA-SMI 465.27       Driver Version: 460.32.03    CUDA Version: 11.2     |\n",
            "|-------------------------------+----------------------+----------------------+\n",
            "| GPU  Name        Persistence-M| Bus-Id        Disp.A | Volatile Uncorr. ECC |\n",
            "| Fan  Temp  Perf  Pwr:Usage/Cap|         Memory-Usage | GPU-Util  Compute M. |\n",
            "|                               |                      |               MIG M. |\n",
            "|===============================+======================+======================|\n",
            "|   0  Tesla P100-PCIE...  Off  | 00000000:00:04.0 Off |                    0 |\n",
            "| N/A   44C    P0    31W / 250W |      0MiB / 16280MiB |      0%      Default |\n",
            "|                               |                      |                  N/A |\n",
            "+-------------------------------+----------------------+----------------------+\n",
            "                                                                               \n",
            "+-----------------------------------------------------------------------------+\n",
            "| Processes:                                                                  |\n",
            "|  GPU   GI   CI        PID   Type   Process name                  GPU Memory |\n",
            "|        ID   ID                                                   Usage      |\n",
            "|=============================================================================|\n",
            "|  No running processes found                                                 |\n",
            "+-----------------------------------------------------------------------------+\n"
          ],
          "name": "stdout"
        }
      ]
    },
    {
      "cell_type": "code",
      "metadata": {
        "id": "Zeecm_VluGZf",
        "colab": {
          "base_uri": "https://localhost:8080/"
        },
        "outputId": "50332369-7500-4aa7-90b6-f2306cfbfcd1"
      },
      "source": [
        "#Sets GPU as accelerator if available\n",
        "tf.test.gpu_device_name()\n",
        "device_lib.list_local_devices()\n",
        "device = torch.device(\"cuda:0\" if torch.cuda.is_available() else \"cpu\")\n",
        "print(device, torch.cuda.is_available())"
      ],
      "execution_count": 4,
      "outputs": [
        {
          "output_type": "stream",
          "text": [
            "cuda:0 True\n"
          ],
          "name": "stdout"
        }
      ]
    },
    {
      "cell_type": "markdown",
      "metadata": {
        "id": "7JYIEC_-s0IH"
      },
      "source": [
        "### Mounting Google Drive"
      ]
    },
    {
      "cell_type": "code",
      "metadata": {
        "colab": {
          "base_uri": "https://localhost:8080/"
        },
        "id": "adIlkFPkszXk",
        "outputId": "5d0e539a-5ce3-4219-f540-52e2883a7648"
      },
      "source": [
        "\n",
        "from google.colab import drive\n",
        "drive.mount('/content/drive')\n"
      ],
      "execution_count": 5,
      "outputs": [
        {
          "output_type": "stream",
          "text": [
            "Mounted at /content/drive\n"
          ],
          "name": "stdout"
        }
      ]
    },
    {
      "cell_type": "markdown",
      "metadata": {
        "id": "jOIRQFy2EYhU"
      },
      "source": [
        "# Pre-Processing\n",
        "\n",
        "This sections includes:\n",
        "1.   Resize.\n",
        "2.   Scale-Gray filter.\n",
        "3.   Save files in new folder on Google Drive\n",
        "\n"
      ]
    },
    {
      "cell_type": "markdown",
      "metadata": {
        "id": "DN-YsR2Fq2kC"
      },
      "source": [
        "### Gray scale"
      ]
    },
    {
      "cell_type": "code",
      "metadata": {
        "id": "EzIqwmzyyEfM",
        "colab": {
          "base_uri": "https://localhost:8080/",
          "height": 146
        },
        "outputId": "fbbc02c6-3618-4d8b-ca23-016de820b6a1"
      },
      "source": [
        "\n",
        "# YA SE EJECUTÓ, NO VOLVER A HACER\n",
        "\n",
        "\"\"\"\n",
        "\n",
        "\n",
        "# GRAY SCALE\n",
        "\n",
        "from google.colab.patches import cv2_imshow\n",
        "\n",
        "CLASS_NAMES = [\"ant problems\", \"few varrao, hive beetles\", \"healthy\", \"hive being robbed\", \"missing queen\", \"Varroa, Small Hive Beetles\"]\n",
        "\n",
        "def FiltroEscalaGrises(imagePath):\n",
        "  image = cv2.imread(imagePath)\n",
        "  gray = cv2.cvtColor(image, cv2.COLOR_BGR2GRAY)\n",
        "  return gray\n",
        "\n",
        "BASE_PATH = \"/content/drive/MyDrive/bee_dataset/dataClassified/\"\n",
        "\n",
        "for className in CLASS_NAMES:\n",
        "  _, _, filenames = next(os.walk(BASE_PATH+className))\n",
        "  for imageFileName in filenames:\n",
        "    imagePath = BASE_PATH + className + \"/\" + imageFileName\n",
        "    cv2.imwrite(imagePath, FiltroEscalaGrises(imagePath))\n",
        "    \n",
        "\"\"\"\n"
      ],
      "execution_count": 6,
      "outputs": [
        {
          "output_type": "execute_result",
          "data": {
            "application/vnd.google.colaboratory.intrinsic+json": {
              "type": "string"
            },
            "text/plain": [
              "'\\n\\n\\n# GRAY SCALE\\n\\nfrom google.colab.patches import cv2_imshow\\n\\nCLASS_NAMES = [\"ant problems\", \"few varrao, hive beetles\", \"healthy\", \"hive being robbed\", \"missing queen\", \"Varroa, Small Hive Beetles\"]\\n\\ndef FiltroEscalaGrises(imagePath):\\n  image = cv2.imread(imagePath)\\n  gray = cv2.cvtColor(image, cv2.COLOR_BGR2GRAY)\\n  return gray\\n\\nBASE_PATH = \"/content/drive/MyDrive/bee_dataset/dataClassified/\"\\n\\nfor className in CLASS_NAMES:\\n  _, _, filenames = next(os.walk(BASE_PATH+className))\\n  for imageFileName in filenames:\\n    imagePath = BASE_PATH + className + \"/\" + imageFileName\\n    cv2.imwrite(imagePath, FiltroEscalaGrises(imagePath))\\n    \\n'"
            ]
          },
          "metadata": {
            "tags": []
          },
          "execution_count": 6
        }
      ]
    },
    {
      "cell_type": "markdown",
      "metadata": {
        "id": "eT1J7Q3bq4-9"
      },
      "source": [
        "### Resize"
      ]
    },
    {
      "cell_type": "code",
      "metadata": {
        "id": "Sgeo3swL_ZQK",
        "colab": {
          "base_uri": "https://localhost:8080/",
          "height": 184
        },
        "outputId": "7e5140d0-7b5f-443a-dec2-ca721b354834"
      },
      "source": [
        "\n",
        "# YA SE EJECUTÓ, NO VOLVER A HACER\n",
        "\n",
        "\"\"\"\n",
        "\n",
        "# RESIZE\n",
        "\n",
        "from google.colab.patches import cv2_imshow\n",
        "\n",
        "CLASS_NAMES = [\"ant problems\", \"few varrao, hive beetles\", \"healthy\", \"hive being robbed\", \"missing queen\", \"Varroa, Small Hive Beetles\"]\n",
        "DIM = (300, 300)\n",
        "\n",
        "def Resize(imagePath):\n",
        "  image = cv2.imread(imagePath, cv2.IMREAD_UNCHANGED)\n",
        "  resized = cv2.resize(image, DIM, interpolation = cv2.INTER_AREA)\n",
        "  return resized\n",
        "\n",
        "BASE_PATH = \"/content/drive/MyDrive/bee_dataset/dataClassified/\"\n",
        "OUT_BASE_PATH = \"/content/drive/MyDrive/bee_dataset/dataClassifiedResized/\"\n",
        "\n",
        "for className in CLASS_NAMES:\n",
        "  _, _, filenames = next(os.walk(BASE_PATH+className))\n",
        "  \n",
        "  print(\"Clase \" + className + \" iniciada\")\n",
        "  \n",
        "  for imageFileName in filenames:\n",
        "    imagePath = BASE_PATH + className + \"/\" + imageFileName\n",
        "    out_imagePath = OUT_BASE_PATH + className + \"/\" + imageFileName\n",
        "    cv2.imwrite(out_imagePath, Resize(imagePath))\n",
        "  \n",
        "  print(\"Clase \" + className + \" terminada\")\n",
        "\n",
        "\"\"\"\n"
      ],
      "execution_count": 7,
      "outputs": [
        {
          "output_type": "execute_result",
          "data": {
            "application/vnd.google.colaboratory.intrinsic+json": {
              "type": "string"
            },
            "text/plain": [
              "'\\n\\n# RESIZE\\n\\nfrom google.colab.patches import cv2_imshow\\n\\nCLASS_NAMES = [\"ant problems\", \"few varrao, hive beetles\", \"healthy\", \"hive being robbed\", \"missing queen\", \"Varroa, Small Hive Beetles\"]\\nDIM = (300, 300)\\n\\ndef Resize(imagePath):\\n  image = cv2.imread(imagePath, cv2.IMREAD_UNCHANGED)\\n  resized = cv2.resize(image, DIM, interpolation = cv2.INTER_AREA)\\n  return resized\\n\\nBASE_PATH = \"/content/drive/MyDrive/bee_dataset/dataClassified/\"\\nOUT_BASE_PATH = \"/content/drive/MyDrive/bee_dataset/dataClassifiedResized/\"\\n\\nfor className in CLASS_NAMES:\\n  _, _, filenames = next(os.walk(BASE_PATH+className))\\n  \\n  print(\"Clase \" + className + \" iniciada\")\\n  \\n  for imageFileName in filenames:\\n    imagePath = BASE_PATH + className + \"/\" + imageFileName\\n    out_imagePath = OUT_BASE_PATH + className + \"/\" + imageFileName\\n    cv2.imwrite(out_imagePath, Resize(imagePath))\\n  \\n  print(\"Clase \" + className + \" terminada\")\\n\\n'"
            ]
          },
          "metadata": {
            "tags": []
          },
          "execution_count": 7
        }
      ]
    },
    {
      "cell_type": "markdown",
      "metadata": {
        "id": "SbcVlR7hA7-z"
      },
      "source": [
        "# Data augmentation\n",
        "\n",
        "This section includes:\n",
        "\n",
        "\n",
        "1.   Rotation\n",
        "2.   Flip\n",
        "3.   ...\n",
        "\n"
      ]
    },
    {
      "cell_type": "markdown",
      "metadata": {
        "id": "d6NTGpumEqvw"
      },
      "source": [
        "### Classnames"
      ]
    },
    {
      "cell_type": "code",
      "metadata": {
        "colab": {
          "base_uri": "https://localhost:8080/"
        },
        "id": "IWCDXb5dC0sf",
        "outputId": "dc13ba06-417a-4f20-d611-f638fab53085"
      },
      "source": [
        "# Classes of data set\n",
        "\n",
        "CLASS_NAMES = [\n",
        "               \"Ant problems\",\n",
        "               \"Few varroa, hive beetles\",\n",
        "               \"Varroa, small hive beetles\",\n",
        "               \"Hive being robbed\",\n",
        "               \"Missing queen\",\n",
        "               \"Healthy\"\n",
        "]\n",
        "\n",
        "\n",
        "print(\" We have \" + str(len(CLASS_NAMES)) + \" classes\")\n",
        "\n",
        "DIRS = [\n",
        "    \"ant problems\",\n",
        "    \"few varrao, hive beetles\",\n",
        "    \"Varroa, Small Hive Beetles\",\n",
        "    \"hive being robbed\",\n",
        "    \"missing queen\",\n",
        "    \"healthy\"\n",
        "]\n",
        "\n",
        "CLASS_NAMES_BY_DIRS = {\n",
        "    \"Ant problems\" : \"ant problems\",\n",
        "    \"Few varroa, hive beetles\" : \"few varrao, hive beetles\",\n",
        "    \"Varroa, small hive beetles\" : \"Varroa, Small Hive Beetles\",\n",
        "    \"Hive being robbed\" : \"hive being robbed\",\n",
        "    \"Missing queen\" :  \"missing queen\",\n",
        "    \"Healthy\" : \"healthy\"\n",
        "}\n"
      ],
      "execution_count": 8,
      "outputs": [
        {
          "output_type": "stream",
          "text": [
            " We have 6 classes\n"
          ],
          "name": "stdout"
        }
      ]
    },
    {
      "cell_type": "markdown",
      "metadata": {
        "id": "E6XMMJkxfhEv"
      },
      "source": [
        "### Class of dataset"
      ]
    },
    {
      "cell_type": "code",
      "metadata": {
        "colab": {
          "base_uri": "https://localhost:8080/"
        },
        "id": "jBLh-gM1G0ms",
        "outputId": "24c2191e-c6b9-45ff-cc71-d39a35416701"
      },
      "source": [
        "class BeeDataset(torch.utils.data.Dataset):\n",
        "  def __init__(self, transform):\n",
        "    self.basePath = \"/content/drive/MyDrive/bee_dataset/dataClassified/\"\n",
        "    self.classCount = []\n",
        "    self.images = {}\n",
        "    self.targets = []\n",
        "    self.transform = transform\n",
        "\n",
        "    for i, class_name in enumerate(DIRS):\n",
        "      self.images[CLASS_NAMES[i]] = [x for x in os.listdir(self.basePath + str(class_name))]\n",
        "      classLen = len(self.images[CLASS_NAMES[i]])\n",
        "      self.classCount.append(classLen)\n",
        "      self.targets += [i] * classLen\n",
        "      print(f'Found {classLen} {CLASS_NAMES[i]} examples')\n",
        "        \n",
        "  def __len__(self):\n",
        "    return sum([len(self.images[className]) for className in CLASS_NAMES])\n",
        "    \n",
        "  def __getitem__(self, index):\n",
        "    for i in range(len(CLASS_NAMES)):\n",
        "      index -= self.classCount[i]\n",
        "      if index < 0:\n",
        "        className = CLASS_NAMES[i]\n",
        "        imageName = self.images[className][index + self.classCount[i]]\n",
        "        imagePath = os.path.join(self.basePath + str(DIRS[i]), imageName)\n",
        "        image = Image.open(imagePath).convert('RGB')\n",
        "        return self.transform(image), i\n",
        "\n",
        "print(\"Executed\")"
      ],
      "execution_count": 9,
      "outputs": [
        {
          "output_type": "stream",
          "text": [
            "Executed\n"
          ],
          "name": "stdout"
        }
      ]
    },
    {
      "cell_type": "markdown",
      "metadata": {
        "id": "TIsE4JD1fs-o"
      },
      "source": [
        "### Applying with torchvision"
      ]
    },
    {
      "cell_type": "code",
      "metadata": {
        "id": "ip_sC5LB2NwE",
        "colab": {
          "base_uri": "https://localhost:8080/",
          "height": 73
        },
        "outputId": "a07abb61-0783-4ffa-d0a2-2ae8b34098f6"
      },
      "source": [
        "\"\"\"\n",
        "References:\n",
        " - Some Data Augmentation Techniques: https://research.aimultiple.com/data-augmentation-techniques/\n",
        " - Data Augmentation | How to use Deep Learning when you have Limited Data — Part 2: https://nanonets.com/blog/data-augmentation-how-to-use-deep-learning-when-you-have-limited-data-part-2/\n",
        "\n",
        "\"\"\""
      ],
      "execution_count": 10,
      "outputs": [
        {
          "output_type": "execute_result",
          "data": {
            "application/vnd.google.colaboratory.intrinsic+json": {
              "type": "string"
            },
            "text/plain": [
              "'\\nReferences:\\n - Some Data Augmentation Techniques: https://research.aimultiple.com/data-augmentation-techniques/\\n - Data Augmentation | How to use Deep Learning when you have Limited Data\\u200a—\\u200aPart 2: https://nanonets.com/blog/data-augmentation-how-to-use-deep-learning-when-you-have-limited-data-part-2/\\n\\n'"
            ]
          },
          "metadata": {
            "tags": []
          },
          "execution_count": 10
        }
      ]
    },
    {
      "cell_type": "code",
      "metadata": {
        "colab": {
          "base_uri": "https://localhost:8080/"
        },
        "id": "TGU5KGOVaiCp",
        "outputId": "83a18ec3-1237-4b9e-c0f4-d4e309ade969"
      },
      "source": [
        "\n",
        "trainTransform = torchvision.transforms.Compose([\n",
        "                                                torchvision.transforms.Resize(size = (300,300)),\n",
        "                                                torchvision.transforms.ToTensor(),\n",
        "                                                torchvision.transforms.Normalize([0.5, 0.5, 0.4],  [0.2, 0.2, 2])\n",
        "])\n",
        "\n",
        "flipTransform = torchvision.transforms.Compose([\n",
        "                                                torchvision.transforms.Resize(size = (300,300)),\n",
        "                                                torchvision.transforms.RandomVerticalFlip(p=1),\n",
        "                                                torchvision.transforms.RandomHorizontalFlip(p=1),\n",
        "                                                torchvision.transforms.ToTensor(),\n",
        "                                                torchvision.transforms.Normalize([0.5, 0.5, 0.4], [0.2, 0.2, 2])\n",
        "])\n",
        "\n",
        "rotateTransform = torchvision.transforms.Compose([\n",
        "                                                torchvision.transforms.Resize(size = (300,300)),\n",
        "                                                torchvision.transforms.RandomRotation(degrees=(270, 270)),\n",
        "                                                torchvision.transforms.ToTensor(),\n",
        "                                                torchvision.transforms.Normalize([0.5, 0.5, 0.4], [0.2, 0.2, 2])\n",
        "])\n",
        "\n",
        "print(\"Original dataset:\")\n",
        "all_targets = []\n",
        "originalDataset = BeeDataset(trainTransform)\n",
        "all_targets.extend(originalDataset.targets)\n",
        "\n",
        "print(\"\\n + Applying data augmentation: flip:\")\n",
        "flipDataset = BeeDataset(flipTransform)\n",
        "all_targets.extend(flipDataset.targets)\n",
        "\n",
        "print(\"\\n + Applying data augmentation: rotation:\")\n",
        "rotateDataset = BeeDataset(rotateTransform)\n",
        "all_targets.extend(rotateDataset.targets)\n",
        "\n",
        "dataset = torch.utils.data.ConcatDataset([originalDataset, flipDataset, rotateDataset])\n",
        "\n",
        "print(\"\\n\\n Tamaño total del dataset: \" + str(len(all_targets)) + \"\\n\")\n"
      ],
      "execution_count": 11,
      "outputs": [
        {
          "output_type": "stream",
          "text": [
            "Original dataset:\n",
            "Found 457 Ant problems examples\n",
            "Found 574 Few varroa, hive beetles examples\n",
            "Found 469 Varroa, small hive beetles examples\n",
            "Found 251 Hive being robbed examples\n",
            "Found 29 Missing queen examples\n",
            "Found 2840 Healthy examples\n",
            "\n",
            " + Applying data augmentation: flip:\n",
            "Found 457 Ant problems examples\n",
            "Found 574 Few varroa, hive beetles examples\n",
            "Found 469 Varroa, small hive beetles examples\n",
            "Found 251 Hive being robbed examples\n",
            "Found 29 Missing queen examples\n",
            "Found 2840 Healthy examples\n",
            "\n",
            " + Applying data augmentation: rotation:\n",
            "Found 457 Ant problems examples\n",
            "Found 574 Few varroa, hive beetles examples\n",
            "Found 469 Varroa, small hive beetles examples\n",
            "Found 251 Hive being robbed examples\n",
            "Found 29 Missing queen examples\n",
            "Found 2840 Healthy examples\n",
            "\n",
            "\n",
            " Tamaño total del dataset: 13860\n",
            "\n"
          ],
          "name": "stdout"
        }
      ]
    },
    {
      "cell_type": "code",
      "metadata": {
        "id": "9HQzk4si2uLV",
        "colab": {
          "base_uri": "https://localhost:8080/"
        },
        "outputId": "ee83add0-3b90-4dd3-fcaf-47764547083d"
      },
      "source": [
        "print(str(len(dataset.datasets)) + \" datasets linked\")"
      ],
      "execution_count": 12,
      "outputs": [
        {
          "output_type": "stream",
          "text": [
            "3 datasets linked\n"
          ],
          "name": "stdout"
        }
      ]
    },
    {
      "cell_type": "markdown",
      "metadata": {
        "id": "eIRq4U22tAsI"
      },
      "source": [
        "### Visualization of results"
      ]
    },
    {
      "cell_type": "code",
      "metadata": {
        "id": "VXAThLBWtCqG",
        "colab": {
          "base_uri": "https://localhost:8080/",
          "height": 245
        },
        "outputId": "010a5825-8a8b-443e-930b-63e921cc6c31"
      },
      "source": [
        "\n",
        "plt.figure(figsize=(15,7))\n",
        "\n",
        "def ShowSpecificImage(id, labelToShow, cont):\n",
        "  plt.subplot(1, 4,  cont, xticks = [], yticks = [])\n",
        "  image, _ = dataset.__getitem__(id)\n",
        "  image = image.numpy().transpose((1, 2, 0))\n",
        "  mean = np.array([0.5, 0.5, 0.4])\n",
        "  std = np.array([0.2, 0.2, 2])\n",
        "  image = image * std + mean\n",
        "  image = np.clip(image, 0., 1.)\n",
        "  plt.imshow(image)\n",
        "  plt.xlabel(labelToShow)\n",
        "\n",
        "cont = 1\n",
        "addToID = 4620\n",
        "randomID = random.randint(0,addToID)\n",
        "print(\"Random ID generated: \" + str(randomID))\n",
        "labelsToShow = [\"Original\", \"Flip\", \"Rotation\"]\n",
        "for i in range(3):\n",
        "  ShowSpecificImage( randomID+(i*addToID), labelsToShow[i], cont )\n",
        "  cont += 1\n"
      ],
      "execution_count": 13,
      "outputs": [
        {
          "output_type": "stream",
          "text": [
            "Random ID generated: 2905\n"
          ],
          "name": "stdout"
        },
        {
          "output_type": "display_data",
          "data": {
            "image/png": "[encoded data removed]",
            "text/plain": [
              "<Figure size 1080x504 with 3 Axes>"
            ]
          },
          "metadata": {
            "tags": []
          }
        }
      ]
    },
    {
      "cell_type": "markdown",
      "metadata": {
        "id": "RE0wYM7cgIR3"
      },
      "source": [
        "# Dividing Dataset"
      ]
    },
    {
      "cell_type": "code",
      "metadata": {
        "id": "MU7aPFeLg-wF",
        "colab": {
          "base_uri": "https://localhost:8080/"
        },
        "outputId": "0d1d3587-8a55-4427-c98c-07b66b3a0cad"
      },
      "source": [
        "\n",
        "USE_FILE_SAVED = False\n",
        "\n",
        "if (USE_FILE_SAVED):\n",
        "  with open(\"/content/drive/MyDrive/bee_dataset/splitCreated.pkl\", \"rb\") as f:\n",
        "      train, test = pickle.load(f)\n",
        "  print(\"We use the file saved on Google Drive\")\n",
        "else:\n",
        "  train, test  = train_test_split(np.arange(len(originalDataset.targets)), test_size=0.3, stratify=originalDataset.targets)\n",
        "  train = np.hstack([train,np.arange(len(originalDataset.targets),len(all_targets))])\n",
        "  np.random.shuffle(train)\n",
        "\n",
        "  with open(\"/content/drive/MyDrive/bee_dataset/splitCreated.pkl\", \"wb\") as f:\n",
        "      pickle.dump([train, test], f)\n",
        "  \n",
        "  print(\"We created a new file, we saved on Google Drive\")\n",
        "\n",
        "trainSampler = torch.utils.data.SubsetRandomSampler(train)\n",
        "testSampler = torch.utils.data.SubsetRandomSampler(test)\n",
        "\n",
        "print(\"\\nLength of train set   :  \", len(trainSampler))\n",
        "print(\"Length of test set    :  \", len(testSampler) , \"\\n\")\n",
        "\n",
        "#\n",
        "# About batch size\n",
        "\n",
        "batch_size = 32\n",
        "images_to_print_by_batch = 2\n",
        "\n",
        "data_train_len = torch.utils.data.DataLoader(dataset, batch_size= batch_size, shuffle = False, sampler=trainSampler)\n",
        "data_test_len = torch.utils.data.DataLoader(dataset, batch_size=batch_size, shuffle=False, sampler=testSampler)\n",
        "\n",
        "print(\"Number of training batches\", len(data_train_len))\n",
        "print(\"Number of test batches\", len(data_test_len))\n",
        "\n"
      ],
      "execution_count": 14,
      "outputs": [
        {
          "output_type": "stream",
          "text": [
            "We created a new file, we saved on Google Drive\n",
            "\n",
            "Length of train set   :   12474\n",
            "Length of test set    :   1386 \n",
            "\n",
            "Number of training batches 390\n",
            "Number of test batches 44\n"
          ],
          "name": "stdout"
        }
      ]
    },
    {
      "cell_type": "markdown",
      "metadata": {
        "id": "xuU8osO8nAnU"
      },
      "source": [
        "### Function to show images"
      ]
    },
    {
      "cell_type": "code",
      "metadata": {
        "id": "PnwguQEHm_k5"
      },
      "source": [
        " \n",
        "def show_images(images,labels,preds):\n",
        "    plt.figure(figsize=(15, 7))\n",
        "    for i , image in enumerate(images):\n",
        "       if (i < images_to_print_by_batch):\n",
        "            plt.subplot(1,images_to_print_by_batch+1,i+1, xticks = [], yticks= [])\n",
        "            image = image.numpy().transpose((1, 2, 0))\n",
        "            mean = np.array([0.5, 0.5, 0.4])\n",
        "            std = np.array([0.2, 0.2, 2])\n",
        "            image = image*std + mean\n",
        "            image = np.clip(image,0.,1.)\n",
        "            plt.imshow(image)\n",
        "            \n",
        "            colorr = \"green\"\n",
        "            if(preds[i] != labels[i]):\n",
        "                colorr=\"red\"\n",
        "                \n",
        "            plt.xlabel(f'{CLASS_NAMES[int(labels[i].numpy())]}')\n",
        "            plt.ylabel(f'{CLASS_NAMES[int(preds[i].numpy())]}', color=colorr)\n",
        "    plt.tight_layout()\n",
        "    plt.show()\n",
        "    \n",
        "def test_predicts():\n",
        "    resnet18.eval()\n",
        "    images, labels = next(iter(data_test_len))\n",
        "    images, labels = images.to(device), labels.to(device)\n",
        "    outputs = resnet18(images)\n",
        "    _, preds = torch.max(outputs, 1)\n",
        "    show_images(images.to('cpu'), labels.to('cpu'), preds.to('cpu'))\n",
        "    "
      ],
      "execution_count": 15,
      "outputs": []
    },
    {
      "cell_type": "markdown",
      "metadata": {
        "id": "tulUxlV4nZtW"
      },
      "source": [
        "# Model"
      ]
    },
    {
      "cell_type": "code",
      "metadata": {
        "id": "yz2b9VUMsH9z",
        "colab": {
          "base_uri": "https://localhost:8080/"
        },
        "outputId": "6a024180-0395-458b-fe62-fd1701bed257"
      },
      "source": [
        "def default_device():\n",
        "  if torch.cuda.is_available():\n",
        "    print(\"We will use GPU\")\n",
        "    return torch.device(\"cuda:0\")\n",
        "  else:\n",
        "    print(\"We will use CPU\")\n",
        "    return torch.device(\"cpu\")\n",
        "device=default_device()"
      ],
      "execution_count": 16,
      "outputs": [
        {
          "output_type": "stream",
          "text": [
            "We will use GPU\n"
          ],
          "name": "stdout"
        }
      ]
    },
    {
      "cell_type": "markdown",
      "metadata": {
        "id": "wJ6HElHLwMvD"
      },
      "source": [
        "### Checkpoints to load and save progress"
      ]
    },
    {
      "cell_type": "code",
      "metadata": {
        "id": "EqQIo91NwQV9"
      },
      "source": [
        "\n",
        "PATH = \"/content/drive/MyDrive/bee_dataset/model.pt\"\n",
        "\n",
        "def saveCheckpoint(epoch, loss, step):\n",
        "  torch.save({\n",
        "              'epoch': epoch,\n",
        "              'model_state_dict': resnet18.state_dict(),\n",
        "              'optimizer_state_dict': optimizer.state_dict(),\n",
        "              'loss': loss,\n",
        "              'step': step\n",
        "              }, PATH)\n",
        "\n",
        "\n",
        "def loadCheckpoint():\n",
        "  checkpoint = torch.load(PATH, map_location=device)\n",
        "  resnet18.load_state_dict(checkpoint['model_state_dict'])\n",
        "  optimizer.load_state_dict(checkpoint['optimizer_state_dict'])\n",
        "  return checkpoint['epoch'], checkpoint['loss'], checkpoint['step']\n"
      ],
      "execution_count": 17,
      "outputs": []
    },
    {
      "cell_type": "markdown",
      "metadata": {
        "id": "xAmJYMGIncYg"
      },
      "source": [
        "### Loading Resnet18"
      ]
    },
    {
      "cell_type": "code",
      "metadata": {
        "id": "SAAEHkyvwEym"
      },
      "source": [
        "\n",
        "def Resnet18():\n",
        "  return torchvision.models.resnet18(pretrained=True)\n"
      ],
      "execution_count": 18,
      "outputs": []
    },
    {
      "cell_type": "code",
      "metadata": {
        "id": "E6ZmRnIHwgB9",
        "colab": {
          "base_uri": "https://localhost:8080/",
          "height": 1000,
          "referenced_widgets": [
            "3bba20e734ae45f98e644a19ee78ab46",
            "21634139f4ef44b08b40a40c286cc4df",
            "6644cad5783a4f41842a37beeecf4e2f",
            "3407f58aac3547e0be2fd2425a4eea72",
            "07e129cf553640399584daa98f82fa79",
            "6ea55e68057a4f189de9317e837e87fd",
            "0471a014a70c41938f0809d7b7c05a16",
            "7c67c74c81384410a295d361113b2eaa"
          ]
        },
        "outputId": "f747e164-24b3-41b6-dadf-c006b8937b96"
      },
      "source": [
        "\n",
        "resnet18 = Resnet18()\n",
        "\n",
        "resnet18.fc = torch.nn.Linear(in_features=512, out_features=len(CLASS_NAMES))\n",
        "loss_fn = torch.nn.CrossEntropyLoss() \n",
        "\n",
        "optimizer = torch.optim.Adam(resnet18.parameters(), lr=3e-5)\n",
        "resnet18.to(device)\n",
        "\n",
        "# e, loss, step = loadCheckpoint()  \n",
        "\n",
        "# print(f'Epoch: {e}')\n",
        "# print(f'Loss: {loss}')\n",
        "# print(f'Step: {step}')\n"
      ],
      "execution_count": 19,
      "outputs": [
        {
          "output_type": "stream",
          "text": [
            "Downloading: \"https://download.pytorch.org/models/resnet18-f37072fd.pth\" to /root/.cache/torch/hub/checkpoints/resnet18-f37072fd.pth\n"
          ],
          "name": "stderr"
        },
        {
          "output_type": "display_data",
          "data": {
            "application/vnd.jupyter.widget-view+json": {
              "model_id": "3bba20e734ae45f98e644a19ee78ab46",
              "version_minor": 0,
              "version_major": 2
            },
            "text/plain": [
              "HBox(children=(FloatProgress(value=0.0, max=46830571.0), HTML(value='')))"
            ]
          },
          "metadata": {
            "tags": []
          }
        },
        {
          "output_type": "stream",
          "text": [
            "\n"
          ],
          "name": "stdout"
        },
        {
          "output_type": "execute_result",
          "data": {
            "text/plain": [
              "ResNet(\n",
              "  (conv1): Conv2d(3, 64, kernel_size=(7, 7), stride=(2, 2), padding=(3, 3), bias=False)\n",
              "  (bn1): BatchNorm2d(64, eps=1e-05, momentum=0.1, affine=True, track_running_stats=True)\n",
              "  (relu): ReLU(inplace=True)\n",
              "  (maxpool): MaxPool2d(kernel_size=3, stride=2, padding=1, dilation=1, ceil_mode=False)\n",
              "  (layer1): Sequential(\n",
              "    (0): BasicBlock(\n",
              "      (conv1): Conv2d(64, 64, kernel_size=(3, 3), stride=(1, 1), padding=(1, 1), bias=False)\n",
              "      (bn1): BatchNorm2d(64, eps=1e-05, momentum=0.1, affine=True, track_running_stats=True)\n",
              "      (relu): ReLU(inplace=True)\n",
              "      (conv2): Conv2d(64, 64, kernel_size=(3, 3), stride=(1, 1), padding=(1, 1), bias=False)\n",
              "      (bn2): BatchNorm2d(64, eps=1e-05, momentum=0.1, affine=True, track_running_stats=True)\n",
              "    )\n",
              "    (1): BasicBlock(\n",
              "      (conv1): Conv2d(64, 64, kernel_size=(3, 3), stride=(1, 1), padding=(1, 1), bias=False)\n",
              "      (bn1): BatchNorm2d(64, eps=1e-05, momentum=0.1, affine=True, track_running_stats=True)\n",
              "      (relu): ReLU(inplace=True)\n",
              "      (conv2): Conv2d(64, 64, kernel_size=(3, 3), stride=(1, 1), padding=(1, 1), bias=False)\n",
              "      (bn2): BatchNorm2d(64, eps=1e-05, momentum=0.1, affine=True, track_running_stats=True)\n",
              "    )\n",
              "  )\n",
              "  (layer2): Sequential(\n",
              "    (0): BasicBlock(\n",
              "      (conv1): Conv2d(64, 128, kernel_size=(3, 3), stride=(2, 2), padding=(1, 1), bias=False)\n",
              "      (bn1): BatchNorm2d(128, eps=1e-05, momentum=0.1, affine=True, track_running_stats=True)\n",
              "      (relu): ReLU(inplace=True)\n",
              "      (conv2): Conv2d(128, 128, kernel_size=(3, 3), stride=(1, 1), padding=(1, 1), bias=False)\n",
              "      (bn2): BatchNorm2d(128, eps=1e-05, momentum=0.1, affine=True, track_running_stats=True)\n",
              "      (downsample): Sequential(\n",
              "        (0): Conv2d(64, 128, kernel_size=(1, 1), stride=(2, 2), bias=False)\n",
              "        (1): BatchNorm2d(128, eps=1e-05, momentum=0.1, affine=True, track_running_stats=True)\n",
              "      )\n",
              "    )\n",
              "    (1): BasicBlock(\n",
              "      (conv1): Conv2d(128, 128, kernel_size=(3, 3), stride=(1, 1), padding=(1, 1), bias=False)\n",
              "      (bn1): BatchNorm2d(128, eps=1e-05, momentum=0.1, affine=True, track_running_stats=True)\n",
              "      (relu): ReLU(inplace=True)\n",
              "      (conv2): Conv2d(128, 128, kernel_size=(3, 3), stride=(1, 1), padding=(1, 1), bias=False)\n",
              "      (bn2): BatchNorm2d(128, eps=1e-05, momentum=0.1, affine=True, track_running_stats=True)\n",
              "    )\n",
              "  )\n",
              "  (layer3): Sequential(\n",
              "    (0): BasicBlock(\n",
              "      (conv1): Conv2d(128, 256, kernel_size=(3, 3), stride=(2, 2), padding=(1, 1), bias=False)\n",
              "      (bn1): BatchNorm2d(256, eps=1e-05, momentum=0.1, affine=True, track_running_stats=True)\n",
              "      (relu): ReLU(inplace=True)\n",
              "      (conv2): Conv2d(256, 256, kernel_size=(3, 3), stride=(1, 1), padding=(1, 1), bias=False)\n",
              "      (bn2): BatchNorm2d(256, eps=1e-05, momentum=0.1, affine=True, track_running_stats=True)\n",
              "      (downsample): Sequential(\n",
              "        (0): Conv2d(128, 256, kernel_size=(1, 1), stride=(2, 2), bias=False)\n",
              "        (1): BatchNorm2d(256, eps=1e-05, momentum=0.1, affine=True, track_running_stats=True)\n",
              "      )\n",
              "    )\n",
              "    (1): BasicBlock(\n",
              "      (conv1): Conv2d(256, 256, kernel_size=(3, 3), stride=(1, 1), padding=(1, 1), bias=False)\n",
              "      (bn1): BatchNorm2d(256, eps=1e-05, momentum=0.1, affine=True, track_running_stats=True)\n",
              "      (relu): ReLU(inplace=True)\n",
              "      (conv2): Conv2d(256, 256, kernel_size=(3, 3), stride=(1, 1), padding=(1, 1), bias=False)\n",
              "      (bn2): BatchNorm2d(256, eps=1e-05, momentum=0.1, affine=True, track_running_stats=True)\n",
              "    )\n",
              "  )\n",
              "  (layer4): Sequential(\n",
              "    (0): BasicBlock(\n",
              "      (conv1): Conv2d(256, 512, kernel_size=(3, 3), stride=(2, 2), padding=(1, 1), bias=False)\n",
              "      (bn1): BatchNorm2d(512, eps=1e-05, momentum=0.1, affine=True, track_running_stats=True)\n",
              "      (relu): ReLU(inplace=True)\n",
              "      (conv2): Conv2d(512, 512, kernel_size=(3, 3), stride=(1, 1), padding=(1, 1), bias=False)\n",
              "      (bn2): BatchNorm2d(512, eps=1e-05, momentum=0.1, affine=True, track_running_stats=True)\n",
              "      (downsample): Sequential(\n",
              "        (0): Conv2d(256, 512, kernel_size=(1, 1), stride=(2, 2), bias=False)\n",
              "        (1): BatchNorm2d(512, eps=1e-05, momentum=0.1, affine=True, track_running_stats=True)\n",
              "      )\n",
              "    )\n",
              "    (1): BasicBlock(\n",
              "      (conv1): Conv2d(512, 512, kernel_size=(3, 3), stride=(1, 1), padding=(1, 1), bias=False)\n",
              "      (bn1): BatchNorm2d(512, eps=1e-05, momentum=0.1, affine=True, track_running_stats=True)\n",
              "      (relu): ReLU(inplace=True)\n",
              "      (conv2): Conv2d(512, 512, kernel_size=(3, 3), stride=(1, 1), padding=(1, 1), bias=False)\n",
              "      (bn2): BatchNorm2d(512, eps=1e-05, momentum=0.1, affine=True, track_running_stats=True)\n",
              "    )\n",
              "  )\n",
              "  (avgpool): AdaptiveAvgPool2d(output_size=(1, 1))\n",
              "  (fc): Linear(in_features=512, out_features=6, bias=True)\n",
              ")"
            ]
          },
          "metadata": {
            "tags": []
          },
          "execution_count": 19
        }
      ]
    },
    {
      "cell_type": "markdown",
      "metadata": {
        "id": "-KwbtfNDniK6"
      },
      "source": [
        "### Function to Train"
      ]
    },
    {
      "cell_type": "code",
      "metadata": {
        "id": "Z9oo5UtQwkGO"
      },
      "source": [
        "\n",
        "def train(epochs, epoch_inicial = 0, train_step_inicial = 0, loss_inicial = 0.):\n",
        "    print('Starting training..')\n",
        "    for e in range(epoch_inicial, epochs):\n",
        "        print('='*20)\n",
        "        print(f'Starting epoch {e + 1}/{epochs}')\n",
        "        print('='*20)\n",
        "\n",
        "        train_loss = loss_inicial\n",
        "        val_loss = 0.\n",
        "        print(0)  # This print is necessary to run in Colab\n",
        "        resnet18.train() # set model to training phase\n",
        "        print(1)  # This print is necessary to run in Colab\n",
        "        for train_step, (images, labels) in enumerate(data_train_len):\n",
        "            if train_step < train_step_inicial: continue \n",
        "\n",
        "            images2, labels = images.to(device), labels.to(device)\n",
        "\n",
        "            optimizer.zero_grad()\n",
        "            \n",
        "            outputs = resnet18(images2)\n",
        "            \n",
        "            loss = loss_fn(outputs, labels)\n",
        "            \n",
        "            loss.backward()\n",
        "            \n",
        "            optimizer.step()\n",
        "            train_loss += loss.item()\n",
        "            print(\"> \"+ str(train_step))\n",
        "            \n",
        "            if train_step % 20 == (train_step_inicial%20):\n",
        "                print('Evaluating at step', train_step)\n",
        "\n",
        "                accuracy = 0\n",
        "                cm = np.zeros((len(CLASS_NAMES),len(CLASS_NAMES)),  dtype=int)\n",
        "\n",
        "                resnet18.eval() # set model to eval phase\n",
        "\n",
        "                for val_step, (images, labels) in enumerate(data_test_len):\n",
        "                    print(\"val_step actual: \" + str(val_step))\n",
        "                    images2, labels = images.to(device), labels.to(device)\n",
        "                    outputs = resnet18(images2)\n",
        "\n",
        "                    loss = loss_fn(outputs, labels)\n",
        "                    val_loss += loss.item()\n",
        "\n",
        "                    _, preds = torch.max(outputs, 1)\n",
        "                    preds = preds.to('cpu')\n",
        "                    labels = labels.to('cpu')\n",
        "                    #accuracy += sum((preds == labels).numpy()) # Acá se cambia para clases\n",
        "                    cm = np.add(cm,confusion_matrix(labels, preds, labels=range(len(CLASS_NAMES)))) \n",
        "                    \n",
        "\n",
        "                val_loss /= (val_step + 1)\n",
        "                #accuracy = accuracy/len(test_dataset)\n",
        "                accuracy = np.sum(cm.diagonal()) / np.sum(cm)\n",
        "                cm = cm.astype('float') / cm.sum(axis=1)[:, np.newaxis]\n",
        "                accuracyPorClase = cm.diagonal()\n",
        "                print(f'Validation Loss: {val_loss:.4f}, Accuracy General: {accuracy:.4f}')\n",
        "                for i, className in enumerate(CLASS_NAMES):\n",
        "                  print(f'{i} - Accuracy {className}: {accuracyPorClase[i]:.4f}')\n",
        "\n",
        "                test_predicts()\n",
        "\n",
        "                resnet18.train()\n",
        "\n",
        "                if accuracy >= 0.98:\n",
        "                    print('Performance condition satisfied, stopping..')\n",
        "                    return\n",
        "        print(8)  # This print is necessary to run in Colab\n",
        "        train_loss /= (train_step + 1)\n",
        "        \n",
        "        saveCheckpoint(epoch=e, loss=train_loss, step=train_step )\n",
        "        print(9)  # This print is necessary to run in Colab\n",
        "        print(f'Training Loss: {train_loss:.4f}')\n",
        "        \n",
        "    print('Training complete..')\n"
      ],
      "execution_count": 20,
      "outputs": []
    },
    {
      "cell_type": "markdown",
      "metadata": {
        "id": "4bERXG_9xPEK"
      },
      "source": [
        "# Train and Test"
      ]
    },
    {
      "cell_type": "markdown",
      "metadata": {
        "id": "0ohAJAvlxSly"
      },
      "source": [
        "### Training"
      ]
    },
    {
      "cell_type": "code",
      "metadata": {
        "id": "pZOG8rArxVOY",
        "colab": {
          "base_uri": "https://localhost:8080/",
          "height": 1000
        },
        "outputId": "d971b3a2-75c6-4e74-9a5b-05cf04e8fb80"
      },
      "source": [
        "%%time\n",
        "train(epochs = 2)\n",
        "\n",
        "# train(epochs=2, epoch_inicial=e, train_step_inicial=step, loss_inicial=loss)"
      ],
      "execution_count": null,
      "outputs": [
        {
          "output_type": "stream",
          "text": [
            "Starting training..\n",
            "====================\n",
            "Starting epoch 1/2\n",
            "====================\n",
            "0\n",
            "1\n"
          ],
          "name": "stdout"
        },
        {
          "output_type": "stream",
          "text": [
            "/usr/local/lib/python3.7/dist-packages/torch/nn/functional.py:718: UserWarning: Named tensors and all their associated APIs are an experimental feature and subject to change. Please do not use them for anything important until they are released as stable. (Triggered internally at  /pytorch/c10/core/TensorImpl.h:1156.)\n",
            "  return torch.max_pool2d(input, kernel_size, stride, padding, dilation, ceil_mode)\n"
          ],
          "name": "stderr"
        },
        {
          "output_type": "stream",
          "text": [
            "> 0\n",
            "Evaluating at step 0\n",
            "val_step actual: 0\n",
            "val_step actual: 1\n",
            "val_step actual: 2\n",
            "val_step actual: 3\n",
            "val_step actual: 4\n",
            "val_step actual: 5\n",
            "val_step actual: 6\n",
            "val_step actual: 7\n",
            "val_step actual: 8\n",
            "val_step actual: 9\n",
            "val_step actual: 10\n",
            "val_step actual: 11\n",
            "val_step actual: 12\n",
            "val_step actual: 13\n",
            "val_step actual: 14\n",
            "val_step actual: 15\n",
            "val_step actual: 16\n",
            "val_step actual: 17\n",
            "val_step actual: 18\n",
            "val_step actual: 19\n",
            "val_step actual: 20\n",
            "val_step actual: 21\n",
            "val_step actual: 22\n",
            "val_step actual: 23\n",
            "val_step actual: 24\n",
            "val_step actual: 25\n",
            "val_step actual: 26\n",
            "val_step actual: 27\n",
            "val_step actual: 28\n",
            "val_step actual: 29\n",
            "val_step actual: 30\n",
            "val_step actual: 31\n",
            "val_step actual: 32\n",
            "val_step actual: 33\n",
            "val_step actual: 34\n",
            "val_step actual: 35\n",
            "val_step actual: 36\n",
            "val_step actual: 37\n",
            "val_step actual: 38\n",
            "val_step actual: 39\n",
            "val_step actual: 40\n",
            "val_step actual: 41\n",
            "val_step actual: 42\n",
            "val_step actual: 43\n",
            "Validation Loss: 1.6689, Accuracy General: 0.2626\n",
            "0 - Accuracy Ant problems: 0.4161\n",
            "1 - Accuracy Few varroa, hive beetles: 0.0058\n",
            "2 - Accuracy Varroa, small hive beetles: 0.1348\n",
            "3 - Accuracy Hive being robbed: 0.0000\n",
            "4 - Accuracy Missing queen: 0.1111\n",
            "5 - Accuracy Healthy: 0.3357\n"
          ],
          "name": "stdout"
        },
        {
          "output_type": "display_data",
          "data": {
            "image/png": "[encoded data removed]",
            "text/plain": [
              "<Figure size 1080x504 with 2 Axes>"
            ]
          },
          "metadata": {
            "tags": []
          }
        },
        {
          "output_type": "stream",
          "text": [
            "> 1\n",
            "> 2\n",
            "> 3\n",
            "> 4\n",
            "> 5\n",
            "> 6\n",
            "> 7\n",
            "> 8\n",
            "> 9\n"
          ],
          "name": "stdout"
        }
      ]
    },
    {
      "cell_type": "markdown",
      "metadata": {
        "id": "fyruGTZIwue0"
      },
      "source": [
        "# Data load"
      ]
    },
    {
      "cell_type": "markdown",
      "metadata": {
        "id": "E3YwEwkLsuuP"
      },
      "source": [
        "# Convolutional Neural Network \n"
      ]
    },
    {
      "cell_type": "code",
      "metadata": {
        "id": "RQsDJp1qsAxc"
      },
      "source": [
        "\"\"\"\n",
        "def Resnet18():\n",
        "  return torchvision.models.resnet18(pretrained=True)"
      ],
      "execution_count": null,
      "outputs": []
    },
    {
      "cell_type": "code",
      "metadata": {
        "id": "nEsg1_lWsE2k"
      },
      "source": [
        "\"\"\"\n",
        "class SSIMLoss(SSIM):\n",
        "    def forward(self, x, y):\n",
        "        x = torch.sigmoid(x)\n",
        "        y = torch.sigmoid(y)\n",
        "        \n",
        "        return 1. - super().forward(x, y)\n"
      ],
      "execution_count": null,
      "outputs": []
    },
    {
      "cell_type": "code",
      "metadata": {
        "id": "XBiE4dfAsGsp"
      },
      "source": [
        "\"\"\"\n",
        "\n",
        "resnet18 = Resnet18()\n",
        "\n",
        "# resnet18.fc = torch.nn.Linear(in_features=512, out_features=4)  # SE DEBE USAR, revisar uso en proyecto 02\n",
        "# loss_fn = torch.nn.CrossEntropyLoss()    # SE DEBE USAR, revisar uso en proyecto 02\n",
        "if torch.cuda.is_available():\n",
        "  loss_fn = SSIMLoss().to(device)\n",
        "else:\n",
        "  loss_fn = SSIMLoss()\n",
        "\n",
        "optimizer = torch.optim.Adam(resnet18.parameters(), lr=3e-5)\n",
        "resnet18.to(device)\n",
        "\n",
        "\n"
      ],
      "execution_count": null,
      "outputs": []
    },
    {
      "cell_type": "code",
      "metadata": {
        "id": "GlaWc0_OZJKn"
      },
      "source": [
        "\"\"\"\n",
        "tf.test.gpu_device_name()\n",
        "device_lib.list_local_devices()\n",
        "device = torch.device(\"cuda:0\" if torch.cuda.is_available() else \"cpu\")\n",
        "print(device, torch.cuda.is_available())"
      ],
      "execution_count": null,
      "outputs": []
    },
    {
      "cell_type": "code",
      "metadata": {
        "id": "wUjFWRiOZSKO"
      },
      "source": [
        "\"\"\"\n",
        "def train_model(model, criterion, optimizer, scheduler, num_epochs=25):\n",
        "    since = time.time()\n",
        "    best_model_wts = copy.deepcopy(model.state_dict())\n",
        "    best_acc = 0.0\n",
        "    train_acc = []\n",
        "    val_acc = []\n",
        "\n",
        "    # Getting last training step\n",
        "    try:\n",
        "      with open('drive/MyDrive/resnet18_covid.pkl', 'rb') as f:\n",
        "          last_epoch, train_acc, val_acc = pickle.load(f)\n",
        "          model = torch.load('drive/MyDrive/resnet18_covid.pth')\n",
        "          best_model_wts = copy.deepcopy(model.state_dict())\n",
        "          print('Previous stage was found, starting from {} of {}.'.format(last_epoch, num_epochs))\n",
        "    except Exception as err:\n",
        "      print(err)\n",
        "      last_epoch = 0\n",
        "      print('No previous stage was found, starting from 0 of {}.'.format(num_epochs))\n",
        "      input('Start from 0?')\n",
        "\n",
        "    for epoch in range(last_epoch, num_epochs):\n",
        "        print('Epoch {}/{}'.format(epoch+1, num_epochs))\n",
        "        print('-' * 10)\n",
        "\n",
        "        # Each epoch has a training and validation phase\n",
        "        for phase in ['train', 'val']:\n",
        "            if phase == 'train':\n",
        "                model.train()  # Set model to training mode\n",
        "            else:\n",
        "                model.eval()   # Set model to evaluate mode\n",
        "\n",
        "            running_loss = 0.0\n",
        "            running_corrects = 0\n",
        "\n",
        "            # Iterate over data.\n",
        "            for inputs, labels in dataloaders[phase]:\n",
        "                inputs = inputs.to(device)\n",
        "                labels = labels.to(device)\n",
        "\n",
        "                # zero the parameter gradients\n",
        "                optimizer.zero_grad()\n",
        "\n",
        "                # forward\n",
        "                # track history if only in train\n",
        "                with torch.set_grad_enabled(phase == 'train'):\n",
        "                    outputs = model(inputs)\n",
        "                    _, preds = torch.max(outputs, 1)\n",
        "                    loss = criterion(outputs, labels)\n",
        "\n",
        "                    # backward + optimize only if in training phase\n",
        "                    if phase == 'train':\n",
        "                        loss.backward()\n",
        "                        optimizer.step()\n",
        "\n",
        "                # statistics\n",
        "                running_loss += loss.item() * inputs.size(0)\n",
        "                running_corrects += torch.sum(preds == labels.data)\n",
        "            if phase == 'train':\n",
        "                scheduler.step()\n",
        "\n",
        "            epoch_loss = running_loss / dataset_sizes[phase]\n",
        "            epoch_acc = running_corrects.double() / dataset_sizes[phase]\n",
        "\n",
        "            if phase == 'train':\n",
        "              train_acc.append(epoch_acc)\n",
        "            else:\n",
        "              val_acc.append(epoch_acc)\n",
        "\n",
        "            print('{} Loss: {:.4f} Acc: {:.4f}'.format(\n",
        "                phase, epoch_loss, epoch_acc))\n",
        "\n",
        "            # deep copy the model\n",
        "            if phase == 'val' and epoch_acc > best_acc:\n",
        "                best_acc = epoch_acc\n",
        "                best_model_wts = copy.deepcopy(model.state_dict())\n",
        "\n",
        "        print()\n",
        "        # Save model\n",
        "        torch.save(model_ft, 'drive/MyDrive/resnet18_covid.pth')\n",
        "        # Save training step\n",
        "        with open('drive/MyDrive/resnet18_covid.pkl', 'wb') as f:\n",
        "          pickle.dump([epoch+1, train_acc, val_acc], f)\n",
        "\n",
        "    time_elapsed = time.time() - since\n",
        "    print('Training complete in {:.0f}m {:.0f}s'.format(\n",
        "        time_elapsed // 60, time_elapsed % 60))\n",
        "\n",
        "    # load best model weights\n",
        "    model.load_state_dict(best_model_wts)\n",
        "    return model, train_acc, val_acc"
      ],
      "execution_count": null,
      "outputs": []
    },
    {
      "cell_type": "code",
      "metadata": {
        "id": "SEQuptw6ZbKz"
      },
      "source": [
        "\"\"\"\n",
        "model_ft = models.resnet18(pretrained=True)\n",
        "num_ftrs = model_ft.fc.in_features\n",
        "\n",
        "# Here the size of each output sample is set to 2.\n",
        "# Alternatively, it can be generalized to nn.Linear(num_ftrs, len(class_names)).\n",
        "model_ft.fc = nn.Linear(num_ftrs, len(class_names))\n",
        "\n",
        "model_ft = model_ft.to(device)\n",
        "\n",
        "criterion = nn.CrossEntropyLoss()\n",
        "\n",
        "# Observe that all parameters are being optimized\n",
        "optimizer_ft = optim.SGD(model_ft.parameters(), lr=0.001, momentum=0.9)\n",
        "\n",
        "# Decay LR by a factor of 0.1 every 7 epochs\n",
        "exp_lr_scheduler = lr_scheduler.StepLR(optimizer_ft, step_size=7, gamma=0.1)"
      ],
      "execution_count": null,
      "outputs": []
    },
    {
      "cell_type": "code",
      "metadata": {
        "id": "TgFUkaWPZePE"
      },
      "source": [
        "\"\"\"\n",
        "model_ft, train_acc, val_acc = train_model(\n",
        "    model_ft, criterion, optimizer_ft, exp_lr_scheduler, num_epochs=25)\n",
        "print('Training Acc: {}'.format(max(train_acc)))\n",
        "print('Valitation Acc: {}'.format(max(val_acc)))"
      ],
      "execution_count": null,
      "outputs": []
    },
    {
      "cell_type": "markdown",
      "metadata": {
        "id": "-nov8sCvs3MK"
      },
      "source": [
        "# Metrics and heatmap\n",
        "After training NN, the following methods help us to get an idea about how the NN tries to get the right class. \n",
        "\n",
        "1.   Confusion matriz\n",
        "2.   Metrics: Accuracy, F1, Recall, Support\n",
        "3.   Heatmaps: Saliency-Maps, Score Class Activation Mapping (CAM), Layer-Wise Relevance Propagation\n",
        "\n",
        "\n"
      ]
    },
    {
      "cell_type": "code",
      "metadata": {
        "id": "O2VMo7YrWUk7"
      },
      "source": [
        "\"\"\"\n",
        "import torch\n",
        "import torch.nn.functional as F\n",
        "from statistics import mode, mean\n",
        "\n",
        "class SaveValues():\n",
        "    def __init__(self, m):\n",
        "        # register a hook to save values of activations and gradients\n",
        "        self.activations = None\n",
        "        self.gradients = None\n",
        "        self.forward_hook = m.register_forward_hook(self.hook_fn_act)\n",
        "        self.backward_hook = m.register_backward_hook(self.hook_fn_grad)\n",
        "\n",
        "    def hook_fn_act(self, module, input, output):\n",
        "        self.activations = output\n",
        "\n",
        "    def hook_fn_grad(self, module, grad_input, grad_output):\n",
        "        self.gradients = grad_output[0]\n",
        "\n",
        "    def remove(self):\n",
        "        self.forward_hook.remove()\n",
        "        self.backward_hook.remove()\n",
        "\n",
        "\n",
        "class CAM(object):\n",
        "    \"\"\" Class Activation Mapping \"\"\"\n",
        "\n",
        "    def __init__(self, model, target_layer):\n",
        "        \"\"\"\n",
        "        Args:\n",
        "            model: a base model to get CAM which have global pooling and fully connected layer.\n",
        "            target_layer: conv_layer before Global Average Pooling\n",
        "        \"\"\"\n",
        "\n",
        "        self.model = model\n",
        "        self.target_layer = target_layer\n",
        "\n",
        "        # save values of activations and gradients in target_layer\n",
        "        self.values = SaveValues(self.target_layer)\n",
        "\n",
        "    def forward(self, x, idx=None):\n",
        "        \"\"\"\n",
        "        Args:\n",
        "            x: input image. shape =>(1, 3, H, W)\n",
        "        Return:\n",
        "            heatmap: class activation mappings of the predicted class\n",
        "        \"\"\"\n",
        "\n",
        "        # object classification\n",
        "        score = self.model(x)\n",
        "\n",
        "        prob = F.softmax(score, dim=1)\n",
        "\n",
        "        if idx is None:\n",
        "            prob, idx = torch.max(prob, dim=1)\n",
        "            idx = idx.item()\n",
        "            prob = prob.item()\n",
        "            print(\"predicted class ids {}\\t probability {}\".format(idx, prob))\n",
        "\n",
        "        # cam can be calculated from the weights of linear layer and activations\n",
        "        weight_fc = list(\n",
        "            self.model._modules.get('fc').parameters())[0].to('cpu').data\n",
        "\n",
        "        cam = self.getCAM(self.values, weight_fc, idx)\n",
        "\n",
        "        return cam, idx\n",
        "\n",
        "    def __call__(self, x):\n",
        "        return self.forward(x)\n",
        "\n",
        "\n",
        "    def getCAM(self, values, weight_fc, idx):\n",
        "        '''\n",
        "        values: the activations and gradients of target_layer\n",
        "            activations: feature map before GAP.  shape => (1, C, H, W)\n",
        "        weight_fc: the weight of fully connected layer.  shape => (num_classes, C)\n",
        "        idx: predicted class id\n",
        "        cam: class activation map.  shape => (1, num_classes, H, W)\n",
        "        '''\n",
        "\n",
        "        cam = F.conv2d(values.activations, weight=weight_fc[:, :, None, None])\n",
        "        _, _, h, w = cam.shape\n",
        "\n",
        "        # class activation mapping only for the predicted class\n",
        "        # cam is normalized with min-max.\n",
        "        cam = cam[:, idx, :, :]\n",
        "        cam -= torch.min(cam)\n",
        "        cam /= torch.max(cam)\n",
        "        cam = cam.view(1, 1, h, w)\n",
        "\n",
        "        return cam.data\n",
        "\n",
        "\n",
        "class ScoreCAM(CAM):\n",
        "    \"\"\" Score CAM \"\"\"\n",
        "\n",
        "    def __init__(self, model, target_layer, n_batch=32):\n",
        "        super().__init__(model, target_layer)\n",
        "        \"\"\"\n",
        "        Args:\n",
        "            model: a base model\n",
        "            target_layer: conv_layer you want to visualize\n",
        "        \"\"\"\n",
        "        self.n_batch = n_batch\n",
        "\n",
        "    def forward(self, x, idx=None):\n",
        "        \"\"\"\n",
        "        Args:\n",
        "            x: input image. shape =>(1, 3, H, W)\n",
        "            idx: the index of the target class\n",
        "        Return:\n",
        "            heatmap: class activation mappings of predicted classes\n",
        "        \"\"\"\n",
        "\n",
        "        with torch.no_grad():\n",
        "            _, _, H, W = x.shape\n",
        "            device = x.device\n",
        "\n",
        "            self.model.zero_grad()\n",
        "            score = self.model(x)\n",
        "            prob = F.softmax(score, dim=1)\n",
        "\n",
        "            if idx is None:\n",
        "                p, idx = torch.max(prob, dim=1)\n",
        "                idx = idx.item()\n",
        "                # print(\"predicted class ids {}\\t probability {}\".format(idx, p))\n",
        "\n",
        "            # # calculate the derivate of probabilities, not that of scores\n",
        "            # prob[0, idx].backward(retain_graph=True)\n",
        "\n",
        "            self.activations = self.values.activations.to('cpu').clone()\n",
        "            # put activation maps through relu activation\n",
        "            # because the values are not normalized with eq.(1) without relu.\n",
        "            self.activations = F.relu(self.activations)\n",
        "            self.activations = F.interpolate(\n",
        "                self.activations, (H, W), mode='bilinear')\n",
        "            _, C, _, _ = self.activations.shape\n",
        "\n",
        "            # normalization\n",
        "            act_min, _ = self.activations.view(1, C, -1).min(dim=2)\n",
        "            act_min = act_min.view(1, C, 1, 1)\n",
        "            act_max, _ = self.activations.view(1, C, -1).max(dim=2)\n",
        "            act_max = act_max.view(1, C, 1, 1)\n",
        "            denominator = torch.where(\n",
        "                (act_max - act_min) != 0., act_max - act_min, torch.tensor(1.)\n",
        "            )\n",
        "\n",
        "            self.activations = self.activations / denominator\n",
        "\n",
        "            # generate masked images and calculate class probabilities\n",
        "            probs = []\n",
        "            for i in range(0, C, self.n_batch):\n",
        "                mask = self.activations[:, i:i+self.n_batch].transpose(0, 1)\n",
        "                mask = mask.to(device)\n",
        "                masked_x = x * mask\n",
        "                score = self.model(masked_x)\n",
        "                probs.append(F.softmax(score, dim=1)[:, idx].to('cpu').data)\n",
        "\n",
        "            probs = torch.stack(probs)\n",
        "            weights = probs.view(1, C, 1, 1)\n",
        "\n",
        "            # shape = > (1, 1, H, W)\n",
        "            cam = (weights * self.activations).sum(1, keepdim=True)\n",
        "            cam = F.relu(cam)\n",
        "            cam -= torch.min(cam)\n",
        "            cam /= torch.max(cam)\n",
        "\n",
        "        return cam.data, idx\n",
        "\n",
        "    def __call__(self, x):\n",
        "        return self.forward(x)"
      ],
      "execution_count": null,
      "outputs": []
    },
    {
      "cell_type": "code",
      "metadata": {
        "id": "4KDZtSHwYrCv"
      },
      "source": [
        "\"\"\"\n",
        "target_layer = model_ft.layer4[1].conv2\n",
        "wrapped_model = ScoreCAM(model_ft, target_layer)\n",
        "\n",
        "image_num = 10\n",
        "images = [\n",
        "  data_dir+'/val/covid/COVID-{}.png'.format(112),\n",
        "  data_dir+'/val/lung_opacity/Lung_Opacity-{}.png'.format(11),\n",
        "  data_dir+'/val/normal/Normal-{}.png'.format(11),\n",
        "  data_dir+'/val/viral_pneumonia/Viral Pneumonia-{}.png'.format(330)\n",
        "]\n",
        "\n",
        "for p in images:\n",
        "  plt.figure(figsize=(15, 15))\n",
        "  # plt.subplot(1, 1, 1)\n",
        "  plt.axis('off')\n",
        "  img = Image.open(p).convert('RGB')\n",
        "  tensor = data_transforms['plot'](img).unsqueeze(0)\n",
        "  cam, idx = wrapped_model(tensor.cuda())\n",
        "  h_img = reverse_normalize(tensor)\n",
        "  heatmap_ = visualize(h_img, cam, cv2.COLORMAP_JET)\n",
        "  hm = (heatmap_.squeeze().numpy().transpose(1, 2, 0))\n",
        "  # imshow(hm, cmap='jet')\n",
        "  plt.imshow(img)\n",
        "  plt.figure(figsize=(15, 15))\n",
        "  # plt.subplot(2, 1, 2)\n",
        "  plt.axis('off')\n",
        "  plt.imshow(hm)\n",
        "  plt.show()"
      ],
      "execution_count": null,
      "outputs": []
    },
    {
      "cell_type": "code",
      "metadata": {
        "id": "gJjkYxFjdnnT"
      },
      "source": [
        "\"\"\"\n",
        "fig = plt.figure(figsize=(10,5))\n",
        "plt.figure(figsize=(14, 10))\n",
        "plt.rcParams.update({'font.size': 24})\n",
        "plt.title(\"Train-Validation Accuracy\")\n",
        "plt.plot(train_acc, label='train')\n",
        "plt.plot(val_acc, label='validation')\n",
        "plt.xlabel('num_epochs', fontsize=24)\n",
        "plt.ylabel('accuracy', fontsize=24)\n",
        "plt.legend(loc='best')\n",
        "plt.ylim([0.8, 1])"
      ],
      "execution_count": null,
      "outputs": []
    },
    {
      "cell_type": "code",
      "metadata": {
        "id": "nhavYQxbd3Go"
      },
      "source": [
        "\"\"\"\n",
        "def reverse_normalize(x, mean=[0.485, 0.456, 0.406], std=[0.229, 0.224, 0.225]):\n",
        "    x[:, 0, :, :] = x[:, 0, :, :] * std[0] + mean[0]\n",
        "    x[:, 1, :, :] = x[:, 1, :, :] * std[1] + mean[1]\n",
        "    x[:, 2, :, :] = x[:, 2, :, :] * std[2] + mean[2]\n",
        "    return x\n",
        "\n",
        "def visualize(img, cam, cmap):\n",
        "    \"\"\"\n",
        "    #Synthesize an image with CAM to make a result image.\n",
        "    #Args:\n",
        "#        img: (Tensor) shape => (1, 3, H, W)\n",
        "#        cam: (Tensor) shape => (1, 1, H', W')\n",
        "#    Return:\n",
        "#        synthesized image (Tensor): shape =>(1, 3, H, W)\n",
        "    \"\"\"\n",
        "\n",
        "    _, _, H, W = img.shape\n",
        "    cam = F.interpolate(cam, size=(H, W), mode='bilinear', align_corners=False)\n",
        "    cam = 255 * cam.squeeze()\n",
        "    heatmap = cv2.applyColorMap(np.uint8(cam), cmap)\n",
        "    heatmap = torch.from_numpy(heatmap.transpose(2, 0, 1))\n",
        "    heatmap = heatmap.float() / 255\n",
        "    b, g, r = heatmap.split(1)\n",
        "    heatmap = torch.cat([r, g, b])\n",
        "\n",
        "    result = heatmap + img.cpu()\n",
        "    result = result.div(result.max())\n",
        "\n",
        "    return result"
      ],
      "execution_count": null,
      "outputs": []
    }
  ]
}